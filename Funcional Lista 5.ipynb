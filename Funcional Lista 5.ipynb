{
 "cells": [
  {
   "cell_type": "markdown",
   "metadata": {},
   "source": [
    "# Programação Funcional Lista 2\n",
    "### Feito com &hearts; em Python 3\n",
    "### Aluno : Luiz Vieira Gonzaga Neto Matricula : 383842"
   ]
  },
  {
   "cell_type": "markdown",
   "metadata": {},
   "source": [
    "# 1. Eleabore, de maneira funcional, os algoritimos de ordenação:\n",
    "## a) bolha\n",
    "## b) inserção\n",
    "## c) merge"
   ]
  },
  {
   "cell_type": "markdown",
   "metadata": {},
   "source": [
    "# Bolha:"
   ]
  },
  {
   "cell_type": "code",
   "execution_count": null,
   "metadata": {
    "collapsed": true
   },
   "outputs": [],
   "source": []
  },
  {
   "cell_type": "markdown",
   "metadata": {},
   "source": [
    "# Inserção"
   ]
  },
  {
   "cell_type": "code",
   "execution_count": 22,
   "metadata": {
    "collapsed": true
   },
   "outputs": [],
   "source": []
  },
  {
   "cell_type": "code",
   "execution_count": null,
   "metadata": {
    "collapsed": true
   },
   "outputs": [],
   "source": []
  },
  {
   "cell_type": "markdown",
   "metadata": {},
   "source": [
    "# Merge"
   ]
  },
  {
   "cell_type": "code",
   "execution_count": 17,
   "metadata": {
    "collapsed": false
   },
   "outputs": [],
   "source": [
    "def merge_sort(lista):\n",
    "    \n",
    "    def merge(llist, rlist):\n",
    "        if llist  or rlist:\n",
    "            if len(llist) and len(rlist):\n",
    "                if llist[0] < rlist[0]:\n",
    "                    return [llist[0]] + merge(llist[1:],rlist)\n",
    "                else:\n",
    "                    return [rlist[0]] + merge(llist,rlist[1:])\n",
    "            if not len(llist):\n",
    "                if len(rlist): return [rlist[0]] + merge(llist,rlist[1:])\n",
    "\n",
    "            if not len(rlist):\n",
    "                if len(llist): return [llist[0]] + merge(llist[1:],rlist)\n",
    "\n",
    "        return []\n",
    "\n",
    "    \n",
    "    if len(lista) < 2: \n",
    "        return lista\n",
    "    \n",
    "    return merge(merge_sort(lista[:len(lista)//2]), merge_sort(lista[len(lista)//2:]))\n"
   ]
  },
  {
   "cell_type": "code",
   "execution_count": 21,
   "metadata": {
    "collapsed": false
   },
   "outputs": [
    {
     "name": "stdout",
     "output_type": "stream",
     "text": [
      "[1, 2, 4, 5, 7, 8, 9]\n"
     ]
    }
   ],
   "source": [
    "print(merge_sort([2,4,5,7,1,8,9]))"
   ]
  },
  {
   "cell_type": "markdown",
   "metadata": {},
   "source": [
    "# 2. Escreva uma função que receba uma lista e um algoritimo. sua função deve aplicar o algoritimo à lista\n",
    "## - Teste com as funções de ordenação da questão anterior"
   ]
  },
  {
   "cell_type": "code",
   "execution_count": 23,
   "metadata": {
    "collapsed": true
   },
   "outputs": [],
   "source": [
    "def questao2(lista,funcao):\n",
    "    return funcao(lista)"
   ]
  },
  {
   "cell_type": "code",
   "execution_count": 24,
   "metadata": {
    "collapsed": false
   },
   "outputs": [
    {
     "name": "stdout",
     "output_type": "stream",
     "text": [
      "[1, 2, 3, 4, 6, 7, 8]\n"
     ]
    }
   ],
   "source": [
    "print(questao2([1,4,3,6,2,8,7],merge_sort))"
   ]
  },
  {
   "cell_type": "markdown",
   "metadata": {},
   "source": [
    "# 3. Escreva um função bits, que obtém todos as sequências de boleanos do comprimento dado:\n",
    "### Ex: bits(2):\n",
    "###             [[False,False],[False,True],[True,False],[True,True]]"
   ]
  },
  {
   "cell_type": "code",
   "execution_count": 32,
   "metadata": {
    "collapsed": false
   },
   "outputs": [
    {
     "name": "stdout",
     "output_type": "stream",
     "text": [
      "[[False], [False], [False], [False], [False]]\n"
     ]
    }
   ],
   "source": [
    "def questao3(bits):\n",
    "    def getPer(bits):\n",
    "        return [ i for i in range(bits**2)]\n",
    "    \n",
    "    def getpos(n):\n",
    "        return n/2\n",
    "    \n",
    "    \n",
    "    def ret(bits):\n",
    "        if getPer(bits):\n",
    "            \n",
    "\n",
    "print(questao3(3))\n",
    "        "
   ]
  },
  {
   "cell_type": "markdown",
   "metadata": {},
   "source": [
    "# 4. Escreva uma função permutations para obter uma lista com todas as permutações dos elementos de uma lista como entrada:\n",
    "### EX: permutations([1,23]):\n",
    "####             [[1,2,3],[1,3,2],[2,1,3],[2,3,1],[3,1,2],[3,2,1]]            "
   ]
  },
  {
   "cell_type": "code",
   "execution_count": null,
   "metadata": {
    "collapsed": true
   },
   "outputs": [],
   "source": []
  },
  {
   "cell_type": "markdown",
   "metadata": {},
   "source": [
    "# 5. O Problema das oito torres consiste em determinar as posições de oito torres em um tabuleiro de xadrez ($ 8*8 $) de forma que nenhumas das torres esteka na linha de ataque de outra. Escreva uma função que procure todas as soluções para o problema."
   ]
  },
  {
   "cell_type": "code",
   "execution_count": null,
   "metadata": {
    "collapsed": true
   },
   "outputs": [],
   "source": []
  },
  {
   "cell_type": "markdown",
   "metadata": {},
   "source": [
    "# 6. Escreva uma função para resolver o problema das $ n $ torres com n dados como entrada:\n",
    "## OBS: n torres num tabuleiro $n * n $"
   ]
  },
  {
   "cell_type": "code",
   "execution_count": null,
   "metadata": {
    "collapsed": true
   },
   "outputs": [],
   "source": []
  },
  {
   "cell_type": "markdown",
   "metadata": {},
   "source": [
    "# 7. Escreva uma função decompor que recebe um número natural e o decompõe em seus fatores primos:\n",
    "### Ex: decompor(36):\n",
    "####           [2,2,3,3]"
   ]
  },
  {
   "cell_type": "code",
   "execution_count": null,
   "metadata": {
    "collapsed": true
   },
   "outputs": [],
   "source": []
  },
  {
   "cell_type": "markdown",
   "metadata": {},
   "source": [
    "# 8. O  problema do troco consiste em retornar a quantia dada como entrada como uma soma de moédas disponivéis:\n",
    "### Ex : entrada: 25\n",
    "###         moedas: 2, 5, 10\n",
    "###         saída: 5,10,10\n",
    "# Escreva uma função quue resolva o problema do troco para um número dado e uma lista de moédas disponivéis\n",
    "### OBS : Use a menor quantidade de moedas.\n",
    "### OBS 2 : Se não houver solução, retorne uma lista vazia"
   ]
  },
  {
   "cell_type": "code",
   "execution_count": null,
   "metadata": {
    "collapsed": true
   },
   "outputs": [],
   "source": []
  },
  {
   "cell_type": "markdown",
   "metadata": {},
   "source": [
    "# 9. Escreva uma função que receba um número natural e retorne uma lista com todos os seus divisores."
   ]
  },
  {
   "cell_type": "code",
   "execution_count": null,
   "metadata": {
    "collapsed": true
   },
   "outputs": [],
   "source": []
  },
  {
   "cell_type": "markdown",
   "metadata": {},
   "source": [
    "# 10. Escreva uma função que receba um natural $ n $ e diga se ele é primo"
   ]
  },
  {
   "cell_type": "code",
   "execution_count": 77,
   "metadata": {
    "collapsed": false
   },
   "outputs": [],
   "source": [
    "def questao10(n):\n",
    "    def getdiv(p,n):\n",
    "        if p != 1 or p != n:\n",
    "            return n%p == 0\n",
    "        else:\n",
    "            return True\n",
    "        \n",
    "    \n",
    "    def ret(i,n):\n",
    "        if i == n+1:\n",
    "            return True\n",
    "        print(getdiv(i,n))\n",
    "        if getdiv(i,n):\n",
    "            return ret(i+1,n)\n",
    "        \n",
    "        return False\n",
    "    \n",
    "    \n",
    "    return ret(1,n)"
   ]
  },
  {
   "cell_type": "code",
   "execution_count": 78,
   "metadata": {
    "collapsed": false
   },
   "outputs": [
    {
     "name": "stdout",
     "output_type": "stream",
     "text": [
      "True\n",
      "False\n"
     ]
    }
   ],
   "source": [
    "print(questao10(13))"
   ]
  },
  {
   "cell_type": "code",
   "execution_count": null,
   "metadata": {
    "collapsed": true
   },
   "outputs": [],
   "source": []
  }
 ],
 "metadata": {
  "kernelspec": {
   "display_name": "Python 3",
   "language": "python",
   "name": "python3"
  },
  "language_info": {
   "codemirror_mode": {
    "name": "ipython",
    "version": 3
   },
   "file_extension": ".py",
   "mimetype": "text/x-python",
   "name": "python",
   "nbconvert_exporter": "python",
   "pygments_lexer": "ipython3",
   "version": "3.5.2+"
  }
 },
 "nbformat": 4,
 "nbformat_minor": 2
}
