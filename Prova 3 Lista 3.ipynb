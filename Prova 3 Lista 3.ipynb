{
 "cells": [
  {
   "cell_type": "markdown",
   "metadata": {},
   "source": [
    "# Programação Funcional Lista 3 Prova 3\n",
    "### Feito com &hearts; em Python 3\n",
    "### Aluno : Luiz Vieira Gonzaga Neto Matricula : 383842"
   ]
  },
  {
   "cell_type": "markdown",
   "metadata": {},
   "source": [
    "# - Defina funções para os seguintes operadores:"
   ]
  },
  {
   "cell_type": "markdown",
   "metadata": {},
   "source": [
    "# 1. Aritiméticos"
   ]
  },
  {
   "cell_type": "markdown",
   "metadata": {},
   "source": [
    "## a - $ + $"
   ]
  },
  {
   "cell_type": "code",
   "execution_count": 54,
   "metadata": {
    "collapsed": false
   },
   "outputs": [
    {
     "name": "stdout",
     "output_type": "stream",
     "text": [
      "10\n"
     ]
    }
   ],
   "source": [
    "def soma(*args):\n",
    "    def ret(args):\n",
    "        if len(args) > 0:\n",
    "            return ret(args[1:])+ args[0]\n",
    "        return 0\n",
    "    return ret(args)\n",
    "\n",
    "print(soma(1,2,3,4))"
   ]
  },
  {
   "cell_type": "markdown",
   "metadata": {},
   "source": [
    "## b - $ - $"
   ]
  },
  {
   "cell_type": "code",
   "execution_count": 53,
   "metadata": {
    "collapsed": false
   },
   "outputs": [
    {
     "name": "stdout",
     "output_type": "stream",
     "text": [
      "1\n"
     ]
    }
   ],
   "source": [
    "def sub(*args):\n",
    "    def ret(args):\n",
    "        if len(args) > 1:\n",
    "            return ret(args[:-1]) - args[-1]\n",
    "        return args[0]\n",
    "    \n",
    "    return ret(args)\n",
    "\n",
    "print(sub(3,2))"
   ]
  },
  {
   "cell_type": "markdown",
   "metadata": {},
   "source": [
    "## c - $ * $"
   ]
  },
  {
   "cell_type": "code",
   "execution_count": 52,
   "metadata": {
    "collapsed": false
   },
   "outputs": [
    {
     "name": "stdout",
     "output_type": "stream",
     "text": [
      "6\n"
     ]
    }
   ],
   "source": [
    "def mult(*args):\n",
    "    def ret(args):\n",
    "        if len(args) > 1:\n",
    "            return ret(args[1:]) * args[0]\n",
    "        return args[0]\n",
    "    return ret(args)\n",
    "\n",
    "print(mult(2,3))"
   ]
  },
  {
   "cell_type": "markdown",
   "metadata": {},
   "source": [
    "## d - $ /  $"
   ]
  },
  {
   "cell_type": "code",
   "execution_count": 37,
   "metadata": {
    "collapsed": false
   },
   "outputs": [
    {
     "name": "stdout",
     "output_type": "stream",
     "text": [
      "2.0\n"
     ]
    }
   ],
   "source": [
    "def div(*args):\n",
    "    def ret(args):\n",
    "            \n",
    "        if len(args) > 1:\n",
    "            return ret(args[:-1]) / args[-1]\n",
    "        return args[0]\n",
    "        \n",
    "    if 0 in args:\n",
    "        raise ZeroDivisionError\n",
    "    return ret(args)\n",
    "\n",
    "print(div(2,1))"
   ]
  },
  {
   "cell_type": "markdown",
   "metadata": {},
   "source": [
    "## e - $ // $"
   ]
  },
  {
   "cell_type": "code",
   "execution_count": 51,
   "metadata": {
    "collapsed": false
   },
   "outputs": [
    {
     "name": "stdout",
     "output_type": "stream",
     "text": [
      "1\n"
     ]
    }
   ],
   "source": [
    "def divInt(*args):\n",
    "    def ret(args):\n",
    "            \n",
    "        if len(args) > 1:\n",
    "            return ret(args[:-1]) / args[-1]\n",
    "        return args[0]\n",
    "        \n",
    "    if 0 in args:\n",
    "        raise ZeroDivisionError\n",
    "    else:\n",
    "        return int(ret(args))\n",
    "\n",
    "print(divInt(2,2))"
   ]
  },
  {
   "cell_type": "markdown",
   "metadata": {},
   "source": [
    "##  f - $ \\ n^p $"
   ]
  },
  {
   "cell_type": "code",
   "execution_count": 55,
   "metadata": {
    "collapsed": false
   },
   "outputs": [
    {
     "name": "stdout",
     "output_type": "stream",
     "text": [
      "4\n"
     ]
    }
   ],
   "source": [
    "def pot(n,p):\n",
    "    if p > 1:\n",
    "        return pot(n,p-1)*n\n",
    "    return n\n",
    "print(pot(2,2))"
   ]
  },
  {
   "cell_type": "markdown",
   "metadata": {},
   "source": [
    "## g - $  \\sqrt[n]{r}$"
   ]
  },
  {
   "cell_type": "code",
   "execution_count": 79,
   "metadata": {
    "collapsed": false
   },
   "outputs": [],
   "source": [
    "def sqrt(n,r):\n",
    "    pass"
   ]
  },
  {
   "cell_type": "markdown",
   "metadata": {},
   "source": [
    "##  h - $ abs $"
   ]
  },
  {
   "cell_type": "markdown",
   "metadata": {},
   "source": [
    "## i - $ minus $"
   ]
  },
  {
   "cell_type": "markdown",
   "metadata": {},
   "source": [
    "# 2. Lógicos"
   ]
  },
  {
   "cell_type": "markdown",
   "metadata": {},
   "source": [
    "## a -  $ and $"
   ]
  },
  {
   "cell_type": "code",
   "execution_count": null,
   "metadata": {
    "collapsed": true
   },
   "outputs": [],
   "source": []
  },
  {
   "cell_type": "markdown",
   "metadata": {},
   "source": [
    "## b - $ or $"
   ]
  },
  {
   "cell_type": "markdown",
   "metadata": {},
   "source": [
    "## c - $ not $"
   ]
  },
  {
   "cell_type": "markdown",
   "metadata": {},
   "source": [
    "## d - $ xor $"
   ]
  },
  {
   "cell_type": "markdown",
   "metadata": {},
   "source": [
    "## e - $ nand $"
   ]
  },
  {
   "cell_type": "markdown",
   "metadata": {},
   "source": [
    "## h - $ nor $"
   ]
  },
  {
   "cell_type": "markdown",
   "metadata": {},
   "source": [
    "## i $ implies $"
   ]
  },
  {
   "cell_type": "markdown",
   "metadata": {},
   "source": [
    "#  3. Relacionais :"
   ]
  },
  {
   "cell_type": "markdown",
   "metadata": {},
   "source": [
    "## a - $ \\lt  $ "
   ]
  },
  {
   "cell_type": "code",
   "execution_count": 69,
   "metadata": {
    "collapsed": false
   },
   "outputs": [
    {
     "name": "stdout",
     "output_type": "stream",
     "text": [
      "True\n"
     ]
    }
   ],
   "source": [
    "def menor(a,b):\n",
    "    return True if a < b else False\n",
    "\n",
    "print(menor(2,4))"
   ]
  },
  {
   "cell_type": "markdown",
   "metadata": {},
   "source": [
    "## b -  $ \\le $"
   ]
  },
  {
   "cell_type": "code",
   "execution_count": 72,
   "metadata": {
    "collapsed": false
   },
   "outputs": [
    {
     "name": "stdout",
     "output_type": "stream",
     "text": [
      "True\n"
     ]
    }
   ],
   "source": [
    "def menoreq(a,b):\n",
    "    return True if a <= b else False\n",
    "print(menoreq(0,4))"
   ]
  },
  {
   "cell_type": "markdown",
   "metadata": {},
   "source": [
    "## c - $ \\gt $"
   ]
  },
  {
   "cell_type": "code",
   "execution_count": 73,
   "metadata": {
    "collapsed": false
   },
   "outputs": [
    {
     "name": "stdout",
     "output_type": "stream",
     "text": [
      "False\n"
     ]
    }
   ],
   "source": [
    "def maior(a,b):\n",
    "    return True if a > b else False\n",
    "\n",
    "print(maior(2,5))"
   ]
  },
  {
   "cell_type": "markdown",
   "metadata": {},
   "source": [
    "## d - $ \\ge $"
   ]
  },
  {
   "cell_type": "code",
   "execution_count": 75,
   "metadata": {
    "collapsed": false
   },
   "outputs": [
    {
     "name": "stdout",
     "output_type": "stream",
     "text": [
      "True\n"
     ]
    }
   ],
   "source": [
    "def maioreq(a,b):\n",
    "    return True if a >= b else False\n",
    "\n",
    "print(maioreq(4,4))"
   ]
  },
  {
   "cell_type": "markdown",
   "metadata": {},
   "source": [
    "## e - $ = $"
   ]
  },
  {
   "cell_type": "code",
   "execution_count": 77,
   "metadata": {
    "collapsed": false
   },
   "outputs": [
    {
     "name": "stdout",
     "output_type": "stream",
     "text": [
      "False\n",
      "True\n"
     ]
    }
   ],
   "source": [
    "def eq(a,b):\n",
    "    return True if a == b else False\n",
    "print(eq(10,-10))\n",
    "print(eq(10,10))"
   ]
  },
  {
   "cell_type": "markdown",
   "metadata": {},
   "source": [
    "## f - $\\ne$"
   ]
  },
  {
   "cell_type": "code",
   "execution_count": 78,
   "metadata": {
    "collapsed": false
   },
   "outputs": [
    {
     "name": "stdout",
     "output_type": "stream",
     "text": [
      "True\n",
      "False\n"
     ]
    }
   ],
   "source": [
    "def dif(a,b):\n",
    "    return True if a != b else False\n",
    "\n",
    "print(dif(10,-10))\n",
    "print(dif(10,10))"
   ]
  },
  {
   "cell_type": "markdown",
   "metadata": {},
   "source": [
    "# 4. Conjuntos"
   ]
  },
  {
   "cell_type": "markdown",
   "metadata": {},
   "source": [
    "## a -  $ \\bigcup $"
   ]
  },
  {
   "cell_type": "code",
   "execution_count": 89,
   "metadata": {
    "collapsed": false
   },
   "outputs": [
    {
     "name": "stdout",
     "output_type": "stream",
     "text": [
      "[1, 2, 3, 2, 5, 6]\n"
     ]
    }
   ],
   "source": [
    "def union(a,b):\n",
    "    return [x for x in a+b]\n",
    "\n",
    "print(union([1,2,3],[2,5,6]))"
   ]
  },
  {
   "cell_type": "markdown",
   "metadata": {},
   "source": [
    "## b - $ \\bigcap $"
   ]
  },
  {
   "cell_type": "code",
   "execution_count": 92,
   "metadata": {
    "collapsed": false
   },
   "outputs": [
    {
     "name": "stdout",
     "output_type": "stream",
     "text": [
      "[2, 3, 2, 3]\n"
     ]
    }
   ],
   "source": [
    "def inter(a,b):\n",
    "    return [x for x in a+b if x in b and x in a]\n",
    "print(inter([1,2,3],[2,3,4]))"
   ]
  },
  {
   "cell_type": "markdown",
   "metadata": {},
   "source": [
    "## c- $ \\in $"
   ]
  },
  {
   "cell_type": "code",
   "execution_count": 96,
   "metadata": {
    "collapsed": false
   },
   "outputs": [
    {
     "name": "stdout",
     "output_type": "stream",
     "text": [
      "True\n"
     ]
    }
   ],
   "source": [
    "def em(a,b):\n",
    "    return True if a in b else False\n",
    "    \n",
    "print(em(2,[2,3]))"
   ]
  },
  {
   "cell_type": "markdown",
   "metadata": {},
   "source": [
    "## d - $ \\notin $ "
   ]
  },
  {
   "cell_type": "code",
   "execution_count": 98,
   "metadata": {
    "collapsed": false
   },
   "outputs": [
    {
     "name": "stdout",
     "output_type": "stream",
     "text": [
      "False\n"
     ]
    }
   ],
   "source": [
    "def notem(a,b):\n",
    "    return True if a not in b else False\n",
    "    \n",
    "print(notem(2,[2,3]))"
   ]
  },
  {
   "cell_type": "code",
   "execution_count": null,
   "metadata": {
    "collapsed": true
   },
   "outputs": [],
   "source": []
  }
 ],
 "metadata": {
  "kernelspec": {
   "display_name": "Python 3",
   "language": "python",
   "name": "python3"
  },
  "language_info": {
   "codemirror_mode": {
    "name": "ipython",
    "version": 3
   },
   "file_extension": ".py",
   "mimetype": "text/x-python",
   "name": "python",
   "nbconvert_exporter": "python",
   "pygments_lexer": "ipython3",
   "version": "3.5.2+"
  }
 },
 "nbformat": 4,
 "nbformat_minor": 2
}
