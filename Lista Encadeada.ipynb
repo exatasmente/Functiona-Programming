{
 "cells": [
  {
   "cell_type": "markdown",
   "metadata": {},
   "source": [
    "# Programação Funcional Lista Encadeada\n",
    "### Feito com &hearts; em Python 3\n",
    "### Aluno : Luiz Vieira Gonzaga Neto Matricula : 383842"
   ]
  },
  {
   "cell_type": "markdown",
   "metadata": {},
   "source": [
    "# Lista Encadeada "
   ]
  },
  {
   "cell_type": "code",
   "execution_count": 1,
   "metadata": {
    "collapsed": true
   },
   "outputs": [],
   "source": [
    "def createNode(val):\n",
    "    return (val,None)"
   ]
  },
  {
   "cell_type": "code",
   "execution_count": 2,
   "metadata": {
    "collapsed": false
   },
   "outputs": [],
   "source": [
    "def append(val,cab):\n",
    "    if cab[1]:\n",
    "        return (cab[0],append(val,cab[1]))\n",
    "    return (cab[0],createNode(val))\n",
    "\n"
   ]
  },
  {
   "cell_type": "code",
   "execution_count": 3,
   "metadata": {
    "collapsed": false
   },
   "outputs": [],
   "source": [
    "def insert(val,i,cab):\n",
    "    if i>0:\n",
    "        return (cab[0],insert(val,i-1,cab[1]))\n",
    "    return (val,cab)"
   ]
  },
  {
   "cell_type": "code",
   "execution_count": 4,
   "metadata": {
    "collapsed": false
   },
   "outputs": [],
   "source": [
    "def remove(i,cab):\n",
    "\n",
    "    def rem(i,cab):\n",
    "        \n",
    "        if i > 1:\n",
    "             return (cab[0],rem(i-1,cab[1]))\n",
    "    \n",
    "        return (cab[0],cab[1][1])\n",
    "    \n",
    "    if i-1 == -1:\n",
    "        return cab[1]\n",
    "    if i < 0 :\n",
    "        raise(IndexError)\n",
    "        \n",
    "    if length(cab) >= i:\n",
    "        return rem(i,cab)\n",
    "    else:\n",
    "        raise(IndexError)\n",
    "                                              "
   ]
  },
  {
   "cell_type": "code",
   "execution_count": 125,
   "metadata": {
    "collapsed": false
   },
   "outputs": [],
   "source": [
    "def length(cab):\n",
    "    if cab[1]:\n",
    "        return length(cab[1])+1\n",
    "    return 1"
   ]
  },
  {
   "cell_type": "code",
   "execution_count": 6,
   "metadata": {
    "collapsed": false
   },
   "outputs": [],
   "source": [
    "def replace(val,i,cab):\n",
    "    def rep(val,i,cab):\n",
    "        \n",
    "        if i > 0:\n",
    "             return (cab[0],rep(val,i-1,cab[1]))\n",
    "    \n",
    "        return (val,cab[1])\n",
    "    \n",
    "    if i-1 == -1:\n",
    "        return (val,cab[1])\n",
    "                \n",
    "    if i < 0 :\n",
    "        raise(IndexError)\n",
    "        \n",
    "    if length(cab) >= i:\n",
    "        return rep(val,i,cab)\n",
    "    else:\n",
    "        raise(IndexError)"
   ]
  },
  {
   "cell_type": "code",
   "execution_count": 7,
   "metadata": {
    "collapsed": false
   },
   "outputs": [],
   "source": [
    "def head(cab):\n",
    "    return (cab[0],None)\n"
   ]
  },
  {
   "cell_type": "code",
   "execution_count": 8,
   "metadata": {
    "collapsed": false
   },
   "outputs": [],
   "source": [
    "def tail(cab):\n",
    "    return cab[1]\n"
   ]
  },
  {
   "cell_type": "code",
   "execution_count": 9,
   "metadata": {
    "collapsed": false
   },
   "outputs": [],
   "source": [
    "def pop(cab):\n",
    "    def _pop(cab):\n",
    "        if cab[1]:\n",
    "            return (cab[0],_pop(cab[1]))\n",
    "        return cab[1]\n",
    "    return _pop(cab)"
   ]
  },
  {
   "cell_type": "code",
   "execution_count": 175,
   "metadata": {
    "collapsed": false
   },
   "outputs": [],
   "source": [
    "def last(cab):\n",
    "    def _last(cab):\n",
    "        if cab[1]:\n",
    "            return _last(cab[1])\n",
    "        return cab\n",
    "    return _last(cab)\n"
   ]
  },
  {
   "cell_type": "code",
   "execution_count": null,
   "metadata": {
    "collapsed": true
   },
   "outputs": [],
   "source": [
    "def getMiddle(cab,i):\n",
    "        if i-1 > 0:\n",
    "            return (cab[0],getMiddle(cab[1],i-1))\n",
    "        return (cab[0],None)\n",
    "    \n",
    "    \n",
    "    def getMiddle2(cab,i,j):\n",
    "        if i > 0:\n",
    "            return getMiddle2(cab[1],i-1,j-1)\n",
    "        if j-1 > 0:\n",
    "            return (cab[0],getMiddle2(cab[1],0,j-1))\n",
    "        return (cab[0],None)\n",
    "                    \n",
    "                    \n",
    "    def merge(llist, rlist):\n",
    "        print('L : ', llist)\n",
    "        print('R : ', rlist)\n",
    "        if llist  or rlist:\n",
    "            \n",
    "            if llist[1] and rlist[1]:\n",
    "                \n",
    "                if llist[0] < rlist[0]:\n",
    "                    return (llist[0] , merge(llist[1],rlist))\n",
    "                else:\n",
    "                    return (rlist[0] , merge(llist,rlist[1]))\n",
    "            if not llist[1]:\n",
    "                if rlist[1]: \n",
    "                    return (rlist[0] , merge(llist,rlist[1]))\n",
    "        \n",
    "            if not rlist[1]:\n",
    "                if llist[1]: \n",
    "                    return (llist[0] , merge(llist[1],rlist))\n",
    "        \n",
    "        \n",
    "  \n",
    "\n",
    " \n",
    "    if length(cab) == 1: \n",
    "         return cab\n",
    "    \n",
    "    print(cab)\n",
    "    \n",
    "    return merge(sort(getMiddle(cab,length(cab)//2)), sort(getMiddle2(cab,length(cab)//2,length(cab))))\n"
   ]
  },
  {
   "cell_type": "code",
   "execution_count": 191,
   "metadata": {
    "collapsed": false
   },
   "outputs": [],
   "source": [
    "def sort(cab):\n",
    "    if cab[1]:\n",
    "        if cab[0] >= cab[1][0]:\n",
    "            return sort((cab[1][0],(cab[0],cab[1][1])))\n",
    "        else:\n",
    "            return (cab[0],sort(cab[1]))\n",
    "    return cab"
   ]
  },
  {
   "cell_type": "code",
   "execution_count": 192,
   "metadata": {
    "collapsed": false
   },
   "outputs": [
    {
     "name": "stdout",
     "output_type": "stream",
     "text": [
      "(0, (1, (3, (2, (4, (5, None))))))\n",
      "(0, (1, (2, (3, (4, (5, None))))))\n"
     ]
    }
   ],
   "source": [
    "a= append(1,createNode(0))\n",
    "a= append(3,a)\n",
    "a = append(2,a)\n",
    "a = append(4,a)\n",
    "a = append(5,a)\n",
    "print (a)\n",
    "print(sort(a))"
   ]
  },
  {
   "cell_type": "code",
   "execution_count": null,
   "metadata": {
    "collapsed": true
   },
   "outputs": [],
   "source": []
  }
 ],
 "metadata": {
  "kernelspec": {
   "display_name": "Python 3",
   "language": "python",
   "name": "python3"
  },
  "language_info": {
   "codemirror_mode": {
    "name": "ipython",
    "version": 3
   },
   "file_extension": ".py",
   "mimetype": "text/x-python",
   "name": "python",
   "nbconvert_exporter": "python",
   "pygments_lexer": "ipython3",
   "version": "3.5.2+"
  }
 },
 "nbformat": 4,
 "nbformat_minor": 2
}
