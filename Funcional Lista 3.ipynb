{
 "cells": [
  {
   "cell_type": "markdown",
   "metadata": {},
   "source": [
    "# Programação Funcional Lista 3\n",
    "### Feito com &hearts; em Python 3\n",
    "### Aluno : Luiz Vieira Gonzaga Neto Matricula : 383842"
   ]
  },
  {
   "cell_type": "markdown",
   "metadata": {},
   "source": [
    "## 1) Escreva uma função que receba uma string e retorne uma lista de tuplas, contando o número de ocorrências de cada caractere.\n",
    "## Ex: “ banana “ → [(1,'b'), (3,'a'), (2,'n')]"
   ]
  },
  {
   "cell_type": "code",
   "execution_count": 275,
   "metadata": {
    "collapsed": false
   },
   "outputs": [],
   "source": [
    "def questao1(arg1):\n",
    "    \n",
    "\n",
    "    \n",
    "    def contador(v,lista):\n",
    "        if len(lista)==0:\n",
    "            return 0\n",
    "        if  v == lista[0]:\n",
    "            return contador(v,lista[1:])+1\n",
    "        else:\n",
    "            return contador(v,lista[1:])+0\n",
    "                              \n",
    "   \n",
    "    def tuplemaker(lista):\n",
    "        return [(x,contador(x,arg1)) for x in set(arg1)]\n",
    "    \n",
    "    return tuplemaker(arg1)\n",
    "    "
   ]
  },
  {
   "cell_type": "code",
   "execution_count": 276,
   "metadata": {
    "collapsed": false
   },
   "outputs": [
    {
     "name": "stdout",
     "output_type": "stream",
     "text": [
      "[('a', 3), ('n', 2), ('b', 1)]\n"
     ]
    }
   ],
   "source": [
    "print(questao1('banana'))"
   ]
  },
  {
   "cell_type": "markdown",
   "metadata": {},
   "source": [
    "## 2) Escreva uma função que receba uma chave de encriptação ( ex: (tenis,polar) ) e uma string. Sua função deve retornar a string criptografada.\n",
    "## Ex: chave: (tenis,polar)\n",
    "## string de entrada: “testando”\n",
    "## string de saida: “porpilde”"
   ]
  },
  {
   "cell_type": "code",
   "execution_count": 277,
   "metadata": {
    "collapsed": false
   },
   "outputs": [
    {
     "name": "stdout",
     "output_type": "stream",
     "text": [
      "eni ceme vii\n"
     ]
    }
   ],
   "source": [
    "def cript(n,ch):\n",
    "    \n",
    "    def sub(l,n):\n",
    "        \n",
    "        if len(l) > 0:\n",
    "            \n",
    "            n = n.replace(l[0][0],l[0][1])\n",
    "            \n",
    "            return sub(l[1:],n)\n",
    "        \n",
    "        return n\n",
    "    \n",
    "    if len(ch[0]) == len(ch[1]):\n",
    "        \n",
    "        return sub([(n[n.find(ch[0][x])],ch[1][x]) for x in range(0,len(ch[1])) if n.find(ch[0][x]) > -1],n)\n",
    "    \n",
    "\n",
    "print(cript(\"ola como vai\",(\"Polar\",\"tenis\")))"
   ]
  },
  {
   "cell_type": "markdown",
   "metadata": {},
   "source": [
    "## 3) Escreva uma função que receba uma string e verifiquei se ela é uma “senha forte”. Isto é, se possui um minimo de caracteres, se possui letras e números, se possui maiúsculas e minúsculas ou caracteres especiais.\n",
    "## OBS.: Você é livre para definir suas próprias regras do que seria uma senha forte."
   ]
  },
  {
   "cell_type": "code",
   "execution_count": 280,
   "metadata": {
    "collapsed": false
   },
   "outputs": [],
   "source": [
    "def senhaForte(string):\n",
    "    \n",
    "    def minlen(string):\n",
    "        if len(string)>=8: \n",
    "            return 10 \n",
    "        else: \n",
    "            return 0\n",
    "    \n",
    "    def alfaNum(string):\n",
    "        string"
   ]
  },
  {
   "cell_type": "markdown",
   "metadata": {},
   "source": [
    "## 4) O cifra de César é um dos mais antigos metodos de criptografia que existe. Ela consiste em subistituir cada caractere da mensagem por outro que esteja K posiões á frente no alfabeto. Depois do 'Z' volta-se ao 'A'.\n",
    "## Ex: entrada: ” banana “, k-2\n",
    "## saida: “dcpcpc”\n",
    "## Escreva uma função que receba uma string e uma inteiro K e retorne a string criptografada pela cifra de César."
   ]
  },
  {
   "cell_type": "code",
   "execution_count": null,
   "metadata": {
    "collapsed": true
   },
   "outputs": [],
   "source": []
  },
  {
   "cell_type": "markdown",
   "metadata": {},
   "source": [
    "## 5o – Escreva uma função que receba uma string e verifica se ela é um palíndromo.\n",
    "## OBS.: não use o metodo reverse()"
   ]
  },
  {
   "cell_type": "code",
   "execution_count": 3,
   "metadata": {
    "collapsed": false
   },
   "outputs": [
    {
     "data": {
      "text/plain": [
       "240"
      ]
     },
     "execution_count": 3,
     "metadata": {},
     "output_type": "execute_result"
    }
   ],
   "source": [
    "150+90"
   ]
  },
  {
   "cell_type": "code",
   "execution_count": null,
   "metadata": {
    "collapsed": true
   },
   "outputs": [],
   "source": []
  }
 ],
 "metadata": {
  "kernelspec": {
   "display_name": "Python 3",
   "language": "python",
   "name": "python3"
  },
  "language_info": {
   "codemirror_mode": {
    "name": "ipython",
    "version": 3
   },
   "file_extension": ".py",
   "mimetype": "text/x-python",
   "name": "python",
   "nbconvert_exporter": "python",
   "pygments_lexer": "ipython3",
   "version": "3.5.2+"
  }
 },
 "nbformat": 4,
 "nbformat_minor": 2
}
