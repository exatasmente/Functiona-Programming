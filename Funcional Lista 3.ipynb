{
 "cells": [
  {
   "cell_type": "markdown",
   "metadata": {},
   "source": [
    "# Programação Funcional Lista 3\n",
    "### Feito com &hearts; em Python 3\n",
    "### Aluno : Luiz Vieira Gonzaga Neto Matricula : 383842"
   ]
  },
  {
   "cell_type": "markdown",
   "metadata": {},
   "source": [
    "## 1) Escreva uma função que receba uma string e retorne uma lista de tuplas, contando o número de ocorrências de cada caractere.\n",
    "## Ex: “ banana “ → [(1,'b'), (3,'a'), (2,'n')]"
   ]
  },
  {
   "cell_type": "code",
   "execution_count": 275,
   "metadata": {
    "collapsed": false
   },
   "outputs": [],
   "source": [
    "def questao1(arg1):\n",
    "    \n",
    "\n",
    "    \n",
    "    def contador(v,lista):\n",
    "        if len(lista)==0:\n",
    "            return 0\n",
    "        if  v == lista[0]:\n",
    "            return contador(v,lista[1:])+1\n",
    "        else:\n",
    "            return contador(v,lista[1:])+0\n",
    "                              \n",
    "   \n",
    "    def tuplemaker(lista):\n",
    "        return [(x,contador(x,arg1)) for x in set(arg1)]\n",
    "    \n",
    "    return tuplemaker(arg1)\n",
    "    "
   ]
  },
  {
   "cell_type": "code",
   "execution_count": 276,
   "metadata": {
    "collapsed": false
   },
   "outputs": [
    {
     "name": "stdout",
     "output_type": "stream",
     "text": [
      "[('a', 3), ('n', 2), ('b', 1)]\n"
     ]
    }
   ],
   "source": [
    "print(questao1('banana'))"
   ]
  },
  {
   "cell_type": "markdown",
   "metadata": {},
   "source": [
    "## 2) Escreva uma função que receba uma chave de encriptação ( ex: (tenis,polar) ) e uma string. Sua função deve retornar a string criptografada.\n",
    "## Ex: chave: (tenis,polar)\n",
    "## string de entrada: “testando”\n",
    "## string de saida: “porpilde”"
   ]
  },
  {
   "cell_type": "code",
   "execution_count": 231,
   "metadata": {
    "collapsed": false
   },
   "outputs": [],
   "source": [
    "def tenisPolar( chave , string ):\n",
    "    def getStrOrd( string = string ):\n",
    "        return [ ord(i) for i in string ]\n",
    "                \n",
    "    def getChaveOrd( chave = chave , string = string ) :\n",
    "        return [ [ ord( chave[1][i] ) ,ord( chave[0][i] ) ] for i in range( len( chave[0] ) ) if string.__contains__( chave[0][i] ) or string.__contains__( chave[1][i] ) ]\n",
    "                \n",
    "    # def sub(chave,string):\n",
    "    \n",
    "    def encriptar( s , c , i = 0 ):\n",
    "        if len( s ) == 0:\n",
    "            return ''\n",
    "        \n",
    "        if i == len( c ):\n",
    "            return  chr( s[0] )  + encriptar( s[1:] , c , 0 )\n",
    "        \n",
    "        if s[0] == c[i][0]:\n",
    "            return  chr( c[i][1] )  + encriptar( s[1:] , c , 0 )\n",
    "        \n",
    "        if s[0] == c[i][1]:\n",
    "            return chr( c[i][0] )  + encriptar( s[1:] , c , 0 )\n",
    "         \n",
    "        return encriptar( s , c , i + 1 )\n",
    "        \n",
    "        \n",
    "    if len(chave[1]) == len(chave[0]):\n",
    "        return encriptar(getStrOrd(),getChaveOrd())\n",
    "    "
   ]
  },
  {
   "cell_type": "code",
   "execution_count": 233,
   "metadata": {
    "collapsed": false
   },
   "outputs": [
    {
     "name": "stdout",
     "output_type": "stream",
     "text": [
      "porpilde\n"
     ]
    }
   ],
   "source": [
    "print(tenisPolar(('tenis','polar'),'testando'))"
   ]
  },
  {
   "cell_type": "markdown",
   "metadata": {},
   "source": [
    "## 3) Escreva uma função que receba uma string e verifiquei se ela é uma “senha forte”. Isto é, se possui um minimo de caracteres, se possui letras e números, se possui maiúsculas e minúsculas ou caracteres especiais.\n",
    "## OBS.: Você é livre para definir suas próprias regras do que seria uma senha forte."
   ]
  },
  {
   "cell_type": "code",
   "execution_count": 65,
   "metadata": {
    "collapsed": false
   },
   "outputs": [],
   "source": [
    "def senhaForte(string):\n",
    "    \n",
    "    def minlen(string):\n",
    "        if len(string)>=10: \n",
    "            return 20 \n",
    "        else: \n",
    "            return -100\n",
    "    \n",
    "    \n",
    "    def charMm(c):\n",
    "        if len(c)==0:\n",
    "            return 0\n",
    "        \n",
    "        if (ord(c[0]) >= 65 and ord(c[0]) <= 90) or (ord(c[0]) >= 97 and ord(c[0]) <= 122):\n",
    "            \n",
    "            return charMm(c[1:])+2\n",
    "        else:\n",
    "            return charMm(c[1:])+0\n",
    "\n",
    "    def num(c):\n",
    "        if len(c)==0:\n",
    "            return 0\n",
    "        if ord(c[0]) >= 48 and ord(c[0]) <= 57:\n",
    "            return num(c[1:])+5\n",
    "        else:\n",
    "            return num(c[1:])+0\n",
    "    def especial(c):\n",
    "        if len(c)==0:\n",
    "            return 0\n",
    "        if ord(c[0]) >= 91 and ord(c[0]) <= 96:\n",
    "            return especial(c[1:])+6\n",
    "        \n",
    "        if (ord(c[0]) >= 32 and ord(c[0]) <= 47) or (ord(c[0]) >= 58 and ord(c[0]) <= 64):\n",
    "            return especial(c[1:])+7\n",
    "        \n",
    "        else:\n",
    "            \n",
    "            return especial(c[1:])+0\n",
    "    \n",
    "    \n",
    "    if (minlen(string)+charMm(string)+especial(string))>40:\n",
    "        return True\n",
    "    else:\n",
    "        return False"
   ]
  },
  {
   "cell_type": "code",
   "execution_count": 68,
   "metadata": {
    "collapsed": false
   },
   "outputs": [
    {
     "name": "stdout",
     "output_type": "stream",
     "text": [
      "False\n"
     ]
    }
   ],
   "source": [
    "print(senhaForte('EXATASM!d'))"
   ]
  },
  {
   "cell_type": "markdown",
   "metadata": {},
   "source": [
    "## 4) O cifra de César é um dos mais antigos metodos de criptografia que existe. Ela consiste em subistituir cada caractere da mensagem por outro que esteja K posiões á frente no alfabeto. Depois do 'Z' volta-se ao 'A'.\n",
    "## Ex: entrada: ” banana “, k+2\n",
    "## saida: “dcpcpc”\n",
    "## Escreva uma função que receba uma string e uma inteiro K e retorne a string criptografada pela cifra de César."
   ]
  },
  {
   "cell_type": "code",
   "execution_count": 90,
   "metadata": {
    "collapsed": false
   },
   "outputs": [],
   "source": [
    "\n",
    "def cesar(palavra,k,dec=False):\n",
    "    def toUpper(c):\n",
    "        return c.upper()\n",
    "    \n",
    "    def encriptar(c,k):\n",
    "        if len(c)==0:\n",
    "            return ''\n",
    "        if ord(c[0]) >= 65 and ord(c[0]) <= 90:\n",
    "            if k+ord(c[0]) > 90:\n",
    "                return chr(ord(c[0]) - 26 + k) + encriptar(c[1:],k)\n",
    "            else:\n",
    "                return chr(ord(c[0])+k)+ encriptar(c[1:],k)\n",
    "        else:\n",
    "            return ''+encriptar(c[1:],k)\n",
    "    \n",
    "    def decriptar(c,k):\n",
    "        if len(c)==0:\n",
    "            return ''\n",
    "              \n",
    "        if ord(c[0]) >= 65 and ord(c[0]) <= 90:\n",
    "            if ord(c[0])-k < 65:\n",
    "                return chr(ord(c[0]) + 26 - k) + decriptar(c[1:],k)\n",
    "            else:\n",
    "                return chr(ord(c[0])-k)+ decriptar(c[1:],k)\n",
    "        else:\n",
    "            return ''+decriptar(c[1:],k)\n",
    "        \n",
    "    if dec == False:     \n",
    "        return encriptar(toUpper(palavra),k)\n",
    "    if dec == True:\n",
    "        return decriptar(toUpper(palavra),k)\n",
    "    "
   ]
  },
  {
   "cell_type": "code",
   "execution_count": 93,
   "metadata": {
    "collapsed": false,
    "scrolled": true
   },
   "outputs": [
    {
     "name": "stdout",
     "output_type": "stream",
     "text": [
      "BANANA\n"
     ]
    }
   ],
   "source": [
    "print(cesar('DCPCPC',2,True))"
   ]
  },
  {
   "cell_type": "markdown",
   "metadata": {},
   "source": [
    "## 5) – Escreva uma função que receba uma string e verifica se ela é um palíndromo.\n",
    "## OBS.: não use o metodo reverse()"
   ]
  },
  {
   "cell_type": "code",
   "execution_count": 126,
   "metadata": {
    "collapsed": false
   },
   "outputs": [],
   "source": [
    "def palindromo(string):\n",
    "    def inverte(s):\n",
    "        if len(s)==0:\n",
    "            return ''\n",
    "        return s[-1]+inverte(s[:-1])\n",
    "    \n",
    "    return  True if string == inverte(string) else False"
   ]
  },
  {
   "cell_type": "code",
   "execution_count": 128,
   "metadata": {
    "collapsed": false
   },
   "outputs": [
    {
     "name": "stdout",
     "output_type": "stream",
     "text": [
      "True\n"
     ]
    }
   ],
   "source": [
    "print(palindromo('arara'))"
   ]
  }
 ],
 "metadata": {
  "kernelspec": {
   "display_name": "Python 3",
   "language": "python",
   "name": "python3"
  },
  "language_info": {
   "codemirror_mode": {
    "name": "ipython",
    "version": 3
   },
   "file_extension": ".py",
   "mimetype": "text/x-python",
   "name": "python",
   "nbconvert_exporter": "python",
   "pygments_lexer": "ipython3",
   "version": "3.5.2+"
  }
 },
 "nbformat": 4,
 "nbformat_minor": 2
}
