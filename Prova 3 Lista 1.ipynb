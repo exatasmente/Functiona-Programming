{
 "cells": [
  {
   "cell_type": "markdown",
   "metadata": {},
   "source": [
    "# Programação Funcional Lista 2\n",
    "### Feito com &hearts; em Python 3\n",
    "### Aluno : Luiz Vieira Gonzaga Neto Matricula : 383842"
   ]
  },
  {
   "cell_type": "markdown",
   "metadata": {},
   "source": [
    "## 1) Criar uma função geradora para:"
   ]
  },
  {
   "cell_type": "markdown",
   "metadata": {},
   "source": [
    "## a) Números Pares"
   ]
  },
  {
   "cell_type": "code",
   "execution_count": 33,
   "metadata": {
    "collapsed": false
   },
   "outputs": [
    {
     "name": "stdout",
     "output_type": "stream",
     "text": [
      "2\n",
      "4\n",
      "6\n"
     ]
    }
   ],
   "source": [
    "def geradoraPares(n=1):\n",
    "    while True:\n",
    "        if n%2 ==0:\n",
    "            yield n\n",
    "            \n",
    "        n += 1\n",
    "            \n",
    "    \n",
    "a = geradoraPares()\n",
    "print(next(a))\n",
    "print(next(a))\n",
    "print(next(a))"
   ]
  },
  {
   "cell_type": "markdown",
   "metadata": {},
   "source": [
    "## b) Progressão Geométrica"
   ]
  },
  {
   "cell_type": "code",
   "execution_count": 38,
   "metadata": {
    "collapsed": false
   },
   "outputs": [
    {
     "name": "stdout",
     "output_type": "stream",
     "text": [
      "1\n",
      "2\n",
      "4\n"
     ]
    }
   ],
   "source": [
    "def pG(q,a=1):\n",
    "    while True:\n",
    "        yield a\n",
    "        a *= q\n",
    "    \n",
    "a = pG(2)\n",
    "print(next(a))\n",
    "print(next(a))\n",
    "print(next(a))"
   ]
  },
  {
   "cell_type": "markdown",
   "metadata": {},
   "source": [
    "## c) Números Primos"
   ]
  },
  {
   "cell_type": "code",
   "execution_count": 20,
   "metadata": {
    "collapsed": false
   },
   "outputs": [
    {
     "name": "stdout",
     "output_type": "stream",
     "text": [
      "2\n",
      "3\n"
     ]
    }
   ],
   "source": [
    "from math import sqrt\n",
    "\n",
    "def ehPrimo(n):\n",
    "    def getDiv(n,i):\n",
    "        if n > 1:\n",
    "            if n == 2:\n",
    "                return True\n",
    "            if n % 2 == 0:\n",
    "                return False\n",
    "            \n",
    "            if i == int(sqrt(n)):\n",
    "                if n % i == 0:\n",
    "                    return True\n",
    "                return False\n",
    "            if n % i == 0:\n",
    "                return False\n",
    "        \n",
    "            return getDiv(n,i+1)\n",
    "        \n",
    "        return False\n",
    "    \n",
    "    return  getDiv(n,1)\n",
    "                 \n",
    "    \n",
    "def geradoraPrimos(n=1):\n",
    "    while True:\n",
    "        if ehPrimo(n):\n",
    "            yield n\n",
    "        n += 1\n",
    "        \n",
    "a = geradoraPrimos()\n",
    "print(next(a))\n",
    "print(next(a))\n"
   ]
  },
  {
   "cell_type": "markdown",
   "metadata": {},
   "source": [
    "## d) Números divisivéis por um natural $ n $"
   ]
  },
  {
   "cell_type": "code",
   "execution_count": 40,
   "metadata": {
    "collapsed": false
   },
   "outputs": [
    {
     "name": "stdout",
     "output_type": "stream",
     "text": [
      "0\n",
      "2\n",
      "4\n"
     ]
    }
   ],
   "source": [
    "def divisiveis(n):\n",
    "    i =0\n",
    "    while True:\n",
    "        if i%n == 0:\n",
    "            yield i\n",
    "        i +=1\n",
    "        \n",
    "    \n",
    "a = divisiveis(2)\n",
    "print(next(a))\n",
    "print(next(a))\n",
    "print(next(a))"
   ]
  },
  {
   "cell_type": "markdown",
   "metadata": {},
   "source": [
    "## e) sequência de Fibonacci"
   ]
  },
  {
   "cell_type": "code",
   "execution_count": 54,
   "metadata": {
    "collapsed": false
   },
   "outputs": [
    {
     "name": "stdout",
     "output_type": "stream",
     "text": [
      "0\n",
      "1\n",
      "1\n",
      "2\n",
      "3\n"
     ]
    }
   ],
   "source": [
    "def geradoraFib():\n",
    "    yield 0\n",
    "    a, b = 0, 1\n",
    "\n",
    "    while True:\n",
    "        yield b\n",
    "        b = a + b\n",
    "        a = b - a        \n",
    "        \n",
    "        \n",
    "        \n",
    "a = geradoraFib()\n",
    "print(next(a))\n",
    "print(next(a))\n",
    "print(next(a))\n",
    "print(next(a))\n",
    "print(next(a))\n"
   ]
  },
  {
   "cell_type": "markdown",
   "metadata": {},
   "source": [
    "# 2. Experimente criar os geradores da $ q1 $ de forma semelhante à compreenção de lista ( usando parênteses no lugar de cochetes )"
   ]
  },
  {
   "cell_type": "code",
   "execution_count": 67,
   "metadata": {
    "collapsed": false
   },
   "outputs": [
    {
     "name": "stdout",
     "output_type": "stream",
     "text": [
      "2\n",
      "4\n",
      "6\n"
     ]
    }
   ],
   "source": [
    "def geradoraPares(n=1):\n",
    "    def count(n=1):\n",
    "        while True:\n",
    "            yield n\n",
    "            n += 1\n",
    "    return (x for x in count() if x%2 == 0 )\n",
    "a = geradoraPares()\n",
    "print(next(a))\n",
    "print(next(a))\n",
    "print(next(a))"
   ]
  },
  {
   "cell_type": "code",
   "execution_count": 62,
   "metadata": {
    "collapsed": false
   },
   "outputs": [
    {
     "name": "stdout",
     "output_type": "stream",
     "text": [
      "1\n",
      "3\n",
      "9\n"
     ]
    }
   ],
   "source": [
    "def pG(q):\n",
    "    def count(q,a=1):\n",
    "        while True:\n",
    "            yield a\n",
    "            a *= q\n",
    "            \n",
    "    return (x for x in count(q))\n",
    "\n",
    "a = pG(3)\n",
    "print(next(a))\n",
    "print(next(a))\n",
    "print(next(a))"
   ]
  },
  {
   "cell_type": "code",
   "execution_count": 65,
   "metadata": {
    "collapsed": false
   },
   "outputs": [
    {
     "name": "stdout",
     "output_type": "stream",
     "text": [
      "0\n",
      "2\n",
      "4\n"
     ]
    }
   ],
   "source": [
    "def divisiveis(n):\n",
    "    def count():\n",
    "        i =0\n",
    "        while True:\n",
    "            if i%n == 0:\n",
    "                yield i\n",
    "            i +=1\n",
    "    return (x for x in count())\n",
    "        \n",
    "    \n",
    "a = divisiveis(2)\n",
    "print(next(a))\n",
    "print(next(a))\n",
    "print(next(a))"
   ]
  },
  {
   "cell_type": "markdown",
   "metadata": {},
   "source": [
    "# 3.\n",
    "# $i$) Crie uma lista qualquer \n",
    "# $ii$) Defina uma função que possa ser aplicada a cada elemento da lista (que retorne um resultado)\n",
    "# $iii$) Aplique a função map passando a função que você definiu e a sua lista\n",
    "# $iv$) Explique o Resultado"
   ]
  },
  {
   "cell_type": "code",
   "execution_count": 70,
   "metadata": {
    "collapsed": false
   },
   "outputs": [
    {
     "name": "stdout",
     "output_type": "stream",
     "text": [
      "[1, 4, 9, 16, 25, 36]\n"
     ]
    },
    {
     "data": {
      "text/plain": [
       "'\\nA função map aplica a cada elemento de uma lista uma função passada como parâmetro e retorna uma lista com os resultados\\n\\n'"
      ]
     },
     "execution_count": 70,
     "metadata": {},
     "output_type": "execute_result"
    }
   ],
   "source": [
    "def exp(n):\n",
    "    return n**2\n",
    "    \n",
    "print(list(map(exp,[1,2,3,4,5,6])))\n",
    "\n",
    "\"\"\"\n",
    "A função map aplica a cada elemento de uma lista uma função passada como parâmetro e retorna uma lista com os resultados\n",
    "\n",
    "\"\"\""
   ]
  },
  {
   "cell_type": "markdown",
   "metadata": {},
   "source": [
    "# 4.\n",
    "# $i$) Crie uma lista qualquer \n",
    "# $ii$) Defina uma função que possa ser aplicada a cada elemento da lista (que retorne um booleano)\n",
    "# $iii$) Aplique a filter passando a função e sua lista\n",
    "# $iv$) Explique o Resultado"
   ]
  },
  {
   "cell_type": "code",
   "execution_count": 73,
   "metadata": {
    "collapsed": false
   },
   "outputs": [
    {
     "name": "stdout",
     "output_type": "stream",
     "text": [
      "[1, 6, 2, 3]\n"
     ]
    },
    {
     "data": {
      "text/plain": [
       "'\\nA função filter aplica a cada elemento de uma lista uma função passada como parâmetro e retorna uma lista com os resultados que são verdadeiros baseado no filtro passado\\n\\n'"
      ]
     },
     "execution_count": 73,
     "metadata": {},
     "output_type": "execute_result"
    }
   ],
   "source": [
    "\n",
    "def isIn(n):\n",
    "    return  True if n in [1,2,3,5,6,3] else False\n",
    "    \n",
    "print(list(filter(isIn,[1,4,6,7,8,9,2,3,4])))\n",
    "\"\"\"\n",
    "A função filter aplica a cada elemento de uma lista uma função passada como parâmetro e retorna uma lista com os resultados que são verdadeiros baseado no filtro passado\n",
    "\n",
    "\"\"\""
   ]
  },
  {
   "cell_type": "markdown",
   "metadata": {},
   "source": [
    "# 5.\n",
    "# $i$) Crie uma lista qualquer \n",
    "# $ii$) Defina uma função que possa ser aplicada a cada dois elementos de sua lista\n",
    "# $iii$) Aplique a função reduce passando a sua função e sua lista\n",
    "# $iv$) Explique o Resultado"
   ]
  },
  {
   "cell_type": "code",
   "execution_count": null,
   "metadata": {
    "collapsed": true
   },
   "outputs": [],
   "source": [
    "def isIn(n):\n",
    "    return  True if n in [1,2,3,5,6,3] else False\n",
    "\n",
    "def exp(n):\n",
    "    return n**2\n"
   ]
  },
  {
   "cell_type": "markdown",
   "metadata": {},
   "source": [
    "# 6.\n",
    "# $i$) Crie duas listas\n",
    "# $ii$) aplique a função zip passando ambas como parâmetros\n",
    "# $iv$) Explique o Resultado"
   ]
  },
  {
   "cell_type": "code",
   "execution_count": null,
   "metadata": {
    "collapsed": true
   },
   "outputs": [],
   "source": []
  },
  {
   "cell_type": "markdown",
   "metadata": {},
   "source": [
    "# 7. Defina as funções map,filter reduce,zip qie posssam ser aplicadas a uma lista encadeada funcional"
   ]
  },
  {
   "cell_type": "code",
   "execution_count": null,
   "metadata": {
    "collapsed": true
   },
   "outputs": [],
   "source": []
  }
 ],
 "metadata": {
  "kernelspec": {
   "display_name": "Python 3",
   "language": "python",
   "name": "python3"
  },
  "language_info": {
   "codemirror_mode": {
    "name": "ipython",
    "version": 3
   },
   "file_extension": ".py",
   "mimetype": "text/x-python",
   "name": "python",
   "nbconvert_exporter": "python",
   "pygments_lexer": "ipython3",
   "version": "3.5.2+"
  }
 },
 "nbformat": 4,
 "nbformat_minor": 2
}
