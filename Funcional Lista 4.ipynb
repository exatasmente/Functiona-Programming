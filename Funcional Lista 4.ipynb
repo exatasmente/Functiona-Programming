{
 "cells": [
  {
   "cell_type": "markdown",
   "metadata": {},
   "source": [
    "# Programação Funcional Lista 4\n",
    "## Feito com ♥ em Python 3\n",
    "### Aluno : Luiz Vieira Gonzaga Neto Matricula : 383842"
   ]
  },
  {
   "cell_type": "markdown",
   "metadata": {},
   "source": [
    "# 1)Escreva uma Função  para clacular a área de um triângulo de lados a,b,c usando a fórmula de Heron: \n",
    "### $$ A = \\sqrt{(p-a)(p-b)(p-c)} $$\n",
    "# Onde $ p $ é a metade do perímetro do Triângulo"
   ]
  },
  {
   "cell_type": "code",
   "execution_count": 13,
   "metadata": {},
   "outputs": [
    {
     "name": "stdout",
     "output_type": "stream",
     "text": [
      "22.44994432064365\n"
     ]
    }
   ],
   "source": [
    "import math \n",
    "def heron(a,b,c):\n",
    "    \n",
    "    def p(a=a,b=b,c=c):\n",
    "        return (a+b+c)/2\n",
    "    \n",
    "    return math.sqrt((p()*((p()-a)*(p()-b)*(p()-c))))\n",
    "print(heron(10,5,13))"
   ]
  },
  {
   "cell_type": "markdown",
   "metadata": {},
   "source": [
    "# 2) Escreva uma função que receba dois argumentos e caalcule o coeficiente binomial $$\\left(\\frac{n}{k}\\right) = \\left(\\frac{n!}{k!(n-k)!}\\right)$$"
   ]
  },
  {
   "cell_type": "code",
   "execution_count": null,
   "metadata": {
    "collapsed": true
   },
   "outputs": [],
   "source": [
    "def coficienteBI(n,k):\n",
    "    "
   ]
  },
  {
   "cell_type": "markdown",
   "metadata": {},
   "source": [
    "# 3) Escreva uma função que receba um número e o escreva por extenso:\n",
    "## obs: de 1 à 100\n",
    "## Ex :21 -> \"Vinte e Um\"\n"
   ]
  },
  {
   "cell_type": "code",
   "execution_count": 37,
   "metadata": {},
   "outputs": [
    {
     "name": "stdout",
     "output_type": "stream",
     "text": [
      "Vinte e Um\n"
     ]
    }
   ],
   "source": [
    "def porextenso(n):\n",
    "    def dic1dig():\n",
    "         return {1:'Um',2:'Dois',3:'Três',4:'Quatro',5:'Cinco',6:'Seis',7:'Sete',8:'Oito',9:'Nove'}\n",
    "        \n",
    "    def dic2dig():\n",
    "        return {10:'Dez',20:'Vinte',30:'Trinta',40:'Quarenta',50:'Cinquenta',60:'Sesenta',70:'Setenta',80:'Oitenta',90:'Noventa',100:'Cem'}\n",
    "    \n",
    "    def dic10():\n",
    "        return {11:'Onze',12:'Doze',13:'Treze',14:'Catorze',15:'Quinze',16:'Dezeseis',17:'Dezesete',18:'Dezoito',19:'Dezenove'}\n",
    "    \n",
    "    def cont(n):\n",
    "        return len(str(n))\n",
    "    \n",
    "    def rest(n):\n",
    "        return n%10\n",
    "\n",
    "    return str(dic2dig()[n-rest(n)])+' e '+str(dic1dig()[rest(n)])\n",
    "\n",
    "    \n",
    "\n",
    "print(porextenso(21))"
   ]
  },
  {
   "cell_type": "code",
   "execution_count": 30,
   "metadata": {},
   "outputs": [
    {
     "data": {
      "text/plain": [
       "1"
      ]
     },
     "execution_count": 30,
     "metadata": {},
     "output_type": "execute_result"
    }
   ],
   "source": [
    "21%10"
   ]
  },
  {
   "cell_type": "markdown",
   "metadata": {},
   "source": [
    "# A constante matemática pi pode ser aproximada pela série: \n",
    "# $$\\frac{\\pi}{4} = \\sum_{k=0}^n \\frac{(-1)^k}{2k+1} $$\n",
    "# Escreva uma função para aproximar pi somando n parcelas.\n"
   ]
  },
  {
   "cell_type": "markdown",
   "metadata": {},
   "source": [
    "# 5) Uma forma mais rápida de aproximar pi é pela série:\n",
    "# $$ \\frac{\\pi^2}{12} = \\sum_{k=0}^n \\frac{(-1)^k}{(k + 1)^2} $$\n",
    "# Escreva uma função para aproximar pi somando n parcelas.\n",
    "## -Compare os resultados desta série com os da questão 4"
   ]
  },
  {
   "cell_type": "code",
   "execution_count": null,
   "metadata": {
    "collapsed": true
   },
   "outputs": [],
   "source": []
  }
 ],
 "metadata": {
  "kernelspec": {
   "display_name": "Python 3",
   "language": "python",
   "name": "python3"
  },
  "language_info": {
   "codemirror_mode": {
    "name": "ipython",
    "version": 3
   },
   "file_extension": ".py",
   "mimetype": "text/x-python",
   "name": "python",
   "nbconvert_exporter": "python",
   "pygments_lexer": "ipython3",
   "version": "3.4.2"
  }
 },
 "nbformat": 4,
 "nbformat_minor": 2
}
