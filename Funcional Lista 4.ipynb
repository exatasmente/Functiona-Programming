{
 "cells": [
  {
   "cell_type": "markdown",
   "metadata": {},
   "source": [
    "# Programação Funcional Lista 4\n",
    "## Feito com ♥ em Python 3\n",
    "### Aluno : Luiz Vieira Gonzaga Neto Matricula : 383842"
   ]
  },
  {
   "cell_type": "markdown",
   "metadata": {},
   "source": [
    "# 1)Escreva uma Função  para clacular a área de um triângulo de lados a,b,c usando a fórmula de Heron: \n",
    "### $$ A = \\sqrt{(p-a)(p-b)(p-c)} $$\n",
    "# Onde $ p $ é a metade do perímetro do Triângulo"
   ]
  },
  {
   "cell_type": "code",
   "execution_count": null,
   "metadata": {
    "collapsed": true
   },
   "outputs": [],
   "source": []
  },
  {
   "cell_type": "markdown",
   "metadata": {},
   "source": [
    "# 2) Escreva uma função que receba dois argumentos e caalcule o coeficiente binomial $$\\left(\\frac{n}{k}\\right) = \\left(\\frac{n!}{k!(n-k)!}\\right)$$"
   ]
  },
  {
   "cell_type": "code",
   "execution_count": null,
   "metadata": {
    "collapsed": true
   },
   "outputs": [],
   "source": []
  },
  {
   "cell_type": "markdown",
   "metadata": {},
   "source": [
    "# 3) Escreva uma função que receba um número e o escreva por extenso:\n",
    "## obs: de 1 à 100\n",
    "## Ex :21 -> \"Vinte e Um\"\n"
   ]
  },
  {
   "cell_type": "code",
   "execution_count": null,
   "metadata": {
    "collapsed": true
   },
   "outputs": [],
   "source": []
  },
  {
   "cell_type": "markdown",
   "metadata": {},
   "source": [
    "# A constante matemática pi pode ser aproximada pela série: \n",
    "# $$\\frac{\\pi}{4} = \\sum_{k=0}^n \\frac{(-1)^k}{2k+1} $$\n",
    "# Escreva uma função para aproximar pi somando n parcelas.\n"
   ]
  },
  {
   "cell_type": "markdown",
   "metadata": {},
   "source": [
    "# 5) Uma forma mais rápida de aproximar pi é pela série:\n",
    "# $$ \\frac{\\pi^2}{12} = \\sum_{k=0}^n \\frac{(-1)^k}{(k + 1)^2} $$\n",
    "# Escreva uma função para aproximar pi somando n parcelas.\n",
    "## -Compare os resultados desta série com os da questão 4"
   ]
  },
  {
   "cell_type": "code",
   "execution_count": null,
   "metadata": {
    "collapsed": true
   },
   "outputs": [],
   "source": []
  }
 ],
 "metadata": {
  "kernelspec": {
   "display_name": "Python 3",
   "language": "python",
   "name": "python3"
  },
  "language_info": {
   "codemirror_mode": {
    "name": "ipython",
    "version": 3
   },
   "file_extension": ".py",
   "mimetype": "text/x-python",
   "name": "python",
   "nbconvert_exporter": "python",
   "pygments_lexer": "ipython3",
   "version": "3.4.2"
  }
 },
 "nbformat": 4,
 "nbformat_minor": 2
}
