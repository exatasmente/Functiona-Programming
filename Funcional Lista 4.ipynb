{
 "cells": [
  {
   "cell_type": "markdown",
   "metadata": {},
   "source": [
    "# Programação Funcional Lista 4\n",
    "## Feito com ♥ em Python 3\n",
    "### Aluno : Luiz Vieira Gonzaga Neto Matricula : 383842"
   ]
  },
  {
   "cell_type": "markdown",
   "metadata": {},
   "source": [
    "# 1)Escreva uma Função  para clacular a área de um triângulo de lados a,b,c usando a fórmula de Heron: \n",
    "### $$ A = \\sqrt{p(p-a)(p-b)(p-c)} $$\n",
    "# Onde $ p=\\frac{(a+b+c)}{2} $ é a metade do perímetro do Triângulo"
   ]
  },
  {
   "cell_type": "code",
   "execution_count": 15,
   "metadata": {
    "collapsed": false
   },
   "outputs": [],
   "source": [
    "import math\n",
    "\n",
    "def heron(a,b,c):\n",
    "    \n",
    "    def p(a=a,b=b,c=c):\n",
    "        return (a+b+c)/2\n",
    "    \n",
    "    \n",
    "    return math.sqrt(p()*((p()-a)*(p()-b)*(p()-c)))"
   ]
  },
  {
   "cell_type": "code",
   "execution_count": 17,
   "metadata": {
    "collapsed": false
   },
   "outputs": [
    {
     "name": "stdout",
     "output_type": "stream",
     "text": [
      "26.832815729997478\n"
     ]
    }
   ],
   "source": [
    "print(heron(9,7,14))"
   ]
  },
  {
   "cell_type": "markdown",
   "metadata": {},
   "source": [
    "# 2) Escreva uma função que receba dois argumentos e calcule o coeficiente binomial $$\\left(\\frac{n}{k}\\right) = \\left(\\frac{n!}{k!(n-k)!}\\right)$$"
   ]
  },
  {
   "cell_type": "code",
   "execution_count": 2,
   "metadata": {
    "collapsed": false
   },
   "outputs": [],
   "source": [
    "def coBinomial(n,k):\n",
    "    def fat(x):\n",
    "        if x == 0 or  x == 1:\n",
    "            return 1\n",
    "        \n",
    "        return x * fat(x-1)\n",
    "    \n",
    "    def func1(n,k):\n",
    "        return fat(n)/(fat(k)*(fat(n-k)))\n",
    "    \n",
    "    return func1(n,k)"
   ]
  },
  {
   "cell_type": "code",
   "execution_count": 3,
   "metadata": {
    "collapsed": false
   },
   "outputs": [
    {
     "name": "stdout",
     "output_type": "stream",
     "text": [
      "10.0\n"
     ]
    }
   ],
   "source": [
    "print(coBinomial(5,3))"
   ]
  },
  {
   "cell_type": "markdown",
   "metadata": {},
   "source": [
    "# 3) Escreva uma função que receba um número e o escreva por extenso:\n",
    "## obs: de 1 à 100\n",
    "## Ex :21 -> \"Vinte e Um\"\n"
   ]
  },
  {
   "cell_type": "code",
   "execution_count": 8,
   "metadata": {
    "collapsed": false
   },
   "outputs": [],
   "source": [
    "def extenso(n):\n",
    "    \n",
    "    \n",
    "    def dic1Dig() :\n",
    "        return {1:'Um',2:'Dois',3:'Três',\n",
    "                4:'Quatro',5:'Cinco',6:'Seis',\n",
    "                7:'Sete',8:'Oito',9:'Nove'}\n",
    "    def dic2Dig() :\n",
    "        return {10:'Dez',20:'Vinte',30:'Trinta',\n",
    "                40:'Quatrenta',50:'Cinquenta',60:'Sesenta',\n",
    "                70:'Setenta',80:'Oitenta',90:'Noventa'}\n",
    "    def dic11_19() :\n",
    "        return {11:'Onze',12:'Doze',13:'Treze',\n",
    "                14:'Quatorze',15:'Quinze',16:'Dezeseis',\n",
    "                17:'Dezesete',18:'Dezoito',19:'Dezenove'}\n",
    "    \n",
    "    def tostr(n=n):\n",
    "        return str(n)\n",
    "    \n",
    "    def tam(n=n) :\n",
    "        return len(str(n))\n",
    "    \n",
    "    def dig2(n=n):\n",
    "        return n%10\n",
    "    if n ==0:\n",
    "        return 'Zero'\n",
    "    \n",
    "    if tam() == 1 :\n",
    "        return dic1Dig()[n]\n",
    "    if (tam() > 1 and tam()<3) and tostr()[-1] == '0' :\n",
    "        return dic2Dig()[n]\n",
    "    if  (tam() > 1 and tam()<3) and (tostr()[0] == '1' and tostr()[-1] != '0'):\n",
    "        return dic11_19()[n]\n",
    "    \n",
    "    if (tam() > 1 and tam()<3):\n",
    "        return str(dic2Dig()[n-dig2()]) + ' e ' + str(dic1Dig()[dig2()])\n",
    "    \n",
    "    if n == 100:\n",
    "        return 'Cem'\n",
    "\n",
    "    return 'Número inválido\\nDigite um Número entre 1 e 100'"
   ]
  },
  {
   "cell_type": "code",
   "execution_count": 47,
   "metadata": {
    "collapsed": false
   },
   "outputs": [
    {
     "name": "stdout",
     "output_type": "stream",
     "text": [
      "Vinte e Um\n"
     ]
    }
   ],
   "source": [
    "print(extenso(21))\n"
   ]
  },
  {
   "cell_type": "markdown",
   "metadata": {},
   "source": [
    "# A constante matemática pi pode ser aproximada pela série: \n",
    "# $$\\frac{\\pi}{4} = \\sum_{k=0}^n \\frac{(-1)^k}{2k+1} $$\n",
    "# Escreva uma função para aproximar pi somando n parcelas.\n"
   ]
  },
  {
   "cell_type": "code",
   "execution_count": 14,
   "metadata": {
    "collapsed": false
   },
   "outputs": [],
   "source": [
    "from math import pi\n",
    "def piAprox(n):\n",
    "    def func1(n,k):\n",
    "        return (-1)**k/((2*k)+1)\n",
    "\n",
    "    def somatorio(n,k=0):\n",
    "        return sum([func1(n,x) for x in range(k,n)])\n",
    "    \n",
    "    return somatorio(n,k=0)"
   ]
  },
  {
   "cell_type": "code",
   "execution_count": 15,
   "metadata": {
    "collapsed": false
   },
   "outputs": [
    {
     "name": "stdout",
     "output_type": "stream",
     "text": [
      "0.7604599047323508\n"
     ]
    }
   ],
   "source": [
    "print(piAprox(10))"
   ]
  },
  {
   "cell_type": "markdown",
   "metadata": {},
   "source": [
    "# 5) Uma forma mais rápida de aproximar pi é pela série:\n",
    "# $$ \\frac{\\pi^2}{12} = \\sum_{k=0}^n \\frac{(-1)^k}{(k + 1)^2} $$\n",
    "# Escreva uma função para aproximar pi somando n parcelas.\n",
    "## -Compare os resultados desta série com os da questão 4"
   ]
  },
  {
   "cell_type": "code",
   "execution_count": 16,
   "metadata": {
    "collapsed": true
   },
   "outputs": [],
   "source": [
    "from math import pi\n",
    "def piAprox2(n):\n",
    "    def func1(n,k):\n",
    "        return (-1)**k/((k+1)**2)\n",
    "\n",
    "    def somatorio(n,k=0):\n",
    "        return sum([func1(n,x) for x in range(k,n)])\n",
    "    \n",
    "    return somatorio(n,k=0)"
   ]
  },
  {
   "cell_type": "code",
   "execution_count": 96,
   "metadata": {
    "collapsed": false
   },
   "outputs": [],
   "source": [
    "import datetime, time\n",
    "\n",
    "class comp():\n",
    "    def tempoComp(arg1):\n",
    "    \n",
    "        def tempolist(arg1,func):\n",
    "            return [datetime.datetime.now().strftime('%f'),func,datetime.datetime.now().strftime('%f')]\n",
    "       \n",
    "        def tempo(arg1,func):\n",
    "            return [x for x in tempolist(arg1,func) if type(x) != float]\n",
    "    \n",
    "        def sub(x):\n",
    "            return float(x[1]) - float(x[0])\n",
    "    \n",
    "    \n",
    "        return [('PiAprox1',sub(tempo(arg1,piAprox(arg1))),'milesegundos'),('PiAprox2',sub(tempo(arg1,piAprox2(arg1))),'milesegundos')]\n",
    "    \n",
    "    def aproxDif(arg1):\n",
    "        return piAprox2(arg1)-piAprox(arg1)"
   ]
  },
  {
   "cell_type": "code",
   "execution_count": 97,
   "metadata": {
    "collapsed": false
   },
   "outputs": [
    {
     "name": "stdout",
     "output_type": "stream",
     "text": [
      "[('PiAprox1', 85.0, 'milesegundos'), ('PiAprox2', 28.0, 'milesegundos')]\n",
      "0.057502270878634354\n"
     ]
    }
   ],
   "source": [
    "print(comp.tempoComp(10))\n",
    "print(comp.aproxDif(10))"
   ]
  },
  {
   "cell_type": "code",
   "execution_count": null,
   "metadata": {
    "collapsed": true
   },
   "outputs": [],
   "source": []
  }
 ],
 "metadata": {
  "kernelspec": {
   "display_name": "Python 3",
   "language": "python",
   "name": "python3"
  },
  "language_info": {
   "codemirror_mode": {
    "name": "ipython",
    "version": 3
   },
   "file_extension": ".py",
   "mimetype": "text/x-python",
   "name": "python",
   "nbconvert_exporter": "python",
   "pygments_lexer": "ipython3",
   "version": "3.5.2+"
  }
 },
 "nbformat": 4,
 "nbformat_minor": 2
}
