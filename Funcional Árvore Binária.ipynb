{
 "cells": [
  {
   "cell_type": "markdown",
   "metadata": {},
   "source": [
    "# Programação Funcional Árvore Binária\n",
    "### Feito com &hearts; em Python 3\n",
    "### Aluno : Luiz Vieira Gonzaga Neto Matricula : 383842"
   ]
  },
  {
   "cell_type": "markdown",
   "metadata": {},
   "source": [
    "# Árvore Binária"
   ]
  },
  {
   "cell_type": "code",
   "execution_count": 1,
   "metadata": {
    "collapsed": true
   },
   "outputs": [],
   "source": [
    "def createNode(val):\n",
    "    return (None,val,None)\n"
   ]
  },
  {
   "cell_type": "code",
   "execution_count": 2,
   "metadata": {
    "collapsed": true
   },
   "outputs": [],
   "source": [
    "def insert(val,root):\n",
    "    if root:\n",
    "        if val > root[1]:\n",
    "            return (root[0],root[1],insert(val,root[2]))\n",
    "        if val < root[1]:\n",
    "            return (insert(val,root[2]),root[1],root[0])\n",
    "    return createNode(val)"
   ]
  },
  {
   "cell_type": "code",
   "execution_count": 3,
   "metadata": {
    "collapsed": true
   },
   "outputs": [],
   "source": [
    "def inOrder(root):\n",
    "    if root:\n",
    "        inorder(root[0])\n",
    "        print(root[1])\n",
    "        inorder(root[2])\n",
    "        \n",
    "def preOrder(root):\n",
    "    if root:\n",
    "        print(root[1])\n",
    "        inorder(root[0])\n",
    "        inorder(root[2])\n",
    "        \n",
    "def posOrder(root):\n",
    "    if root:\n",
    "        inorder(root[0])\n",
    "        inorder(root[2])\n",
    "        print(root[1])"
   ]
  },
  {
   "cell_type": "code",
   "execution_count": 4,
   "metadata": {
    "collapsed": true
   },
   "outputs": [],
   "source": [
    "def search(key,root):\n",
    "    \n",
    "    if root:\n",
    "        if root[1] == key:\n",
    "            return True\n",
    "        \n",
    "        if root[1] > key:\n",
    "            return search(root[0])\n",
    "        if root[1] < key:\n",
    "            return search(root[2])\n",
    "        \n",
    "    return False"
   ]
  },
  {
   "cell_type": "code",
   "execution_count": 5,
   "metadata": {
    "collapsed": true
   },
   "outputs": [],
   "source": [
    "def height(root):\n",
    "    if root:\n",
    "        if height(root[0]) > height(root[2]) :\n",
    "            return height(root[0]) + 1\n",
    "        else:\n",
    "            return height(root[2]) + 1\n",
    "    return 0"
   ]
  }
 ],
 "metadata": {
  "kernelspec": {
   "display_name": "Python 3",
   "language": "python",
   "name": "python3"
  },
  "language_info": {
   "codemirror_mode": {
    "name": "ipython",
    "version": 3
   },
   "file_extension": ".py",
   "mimetype": "text/x-python",
   "name": "python",
   "nbconvert_exporter": "python",
   "pygments_lexer": "ipython3",
   "version": "3.5.2+"
  }
 },
 "nbformat": 4,
 "nbformat_minor": 2
}
