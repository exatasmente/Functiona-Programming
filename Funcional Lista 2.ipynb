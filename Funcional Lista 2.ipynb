{
 "cells": [
  {
   "cell_type": "markdown",
   "metadata": {},
   "source": [
    "# Programação Funcional Lista 2\n",
    "### Feito com &hearts; em Python 3\n",
    "### Aluno : Luiz Vieira Gonzaga Neto Matricula : 383842"
   ]
  },
  {
   "cell_type": "markdown",
   "metadata": {},
   "source": [
    "## 01. Escreva uma função que receba um número e diga se ele é par"
   ]
  },
  {
   "cell_type": "code",
   "execution_count": 163,
   "metadata": {
    "collapsed": false
   },
   "outputs": [
    {
     "data": {
      "text/plain": [
       "'Par'"
      ]
     },
     "execution_count": 163,
     "metadata": {},
     "output_type": "execute_result"
    }
   ],
   "source": [
    "def parImpar(arg):\n",
    "    return \"Par\" if arg % 2 == 0  else \"Impar\"\n",
    "\n",
    "parImpar(10)"
   ]
  },
  {
   "cell_type": "markdown",
   "metadata": {},
   "source": [
    "# 02. Escreva uma função que calcule o fatorial de um número"
   ]
  },
  {
   "cell_type": "code",
   "execution_count": 168,
   "metadata": {
    "collapsed": false
   },
   "outputs": [
    {
     "data": {
      "text/plain": [
       "120"
      ]
     },
     "execution_count": 168,
     "metadata": {},
     "output_type": "execute_result"
    }
   ],
   "source": [
    "def fatorial(arg):\n",
    "    if arg == 1 or arg == 0:\n",
    "        return 1\n",
    "    if arg <0:\n",
    "        print(\"Numero Negativo\\nDigite um numero Positivo\")\n",
    "    else :\n",
    "        return arg * (fatorial(arg-1))\n",
    "    \n",
    "fatorial(5)\n",
    "    "
   ]
  },
  {
   "cell_type": "markdown",
   "metadata": {},
   "source": [
    "# 03. Escreva uma função que receba dois números e diga se o primeiro é divisor do segundo"
   ]
  },
  {
   "cell_type": "code",
   "execution_count": 3,
   "metadata": {
    "collapsed": false
   },
   "outputs": [
    {
     "data": {
      "text/plain": [
       "'4 Não é Divisor de 5'"
      ]
     },
     "execution_count": 3,
     "metadata": {},
     "output_type": "execute_result"
    }
   ],
   "source": [
    "def divisor(arg0,arg1):\n",
    "    return str(arg1)+\" É divisor de \"+str(arg0) if arg1 % arg0 == 0 else str(arg1)+\" Não é Divisor de \"+str(arg0)\n",
    "\n",
    "divisor(5,4)"
   ]
  },
  {
   "cell_type": "markdown",
   "metadata": {},
   "source": [
    "# 04. Escreva uma função que receba um filtro e uma lista. Sua função deve retornar uma lista de elementos “filtrados” da entrada. Exemplos de filtros (podem ser outros, fiquem a vontade).\n",
    "## i) par ou impar;\n",
    "## ii) primo ou não primo;\n",
    "## iii) maior que n (defina n);\n",
    "## iv) multiplo de n (defina n)\n",
    "## v) divisor de n (defina n)"
   ]
  },
  {
   "cell_type": "code",
   "execution_count": 4,
   "metadata": {
    "collapsed": false
   },
   "outputs": [
    {
     "name": "stdout",
     "output_type": "stream",
     "text": [
      "[0, 2, 4, 6, 8, 10, 12, 14, 16, 18]\n"
     ]
    }
   ],
   "source": [
    "def funcao4(filtro,list,n=None):\n",
    "    if len(list)==0:\n",
    "        return list\n",
    "    if filtro(list[0]):\n",
    "        return [list[0]] + funcao4(filtro,list[1:],n=None)  \n",
    "    else :\n",
    "        return funcao4(filtro,list[1:],n=None)\n",
    "     \n",
    "    \n",
    "print(funcao4((lambda x: x%2==0 ),list(range(20))))"
   ]
  },
  {
   "cell_type": "markdown",
   "metadata": {},
   "source": [
    "# 05. Escreva uma função que receba uma lista e retorne a mediana"
   ]
  },
  {
   "cell_type": "code",
   "execution_count": 6,
   "metadata": {
    "collapsed": false
   },
   "outputs": [],
   "source": [
    "def mediana(list):\n",
    "    list.sort()\n",
    "    if list[(len(list)//2)]%2==1:\n",
    "        return list[len(list)//2]\n",
    "    else:\n",
    "        return list[len(list)//2]+list[(len(list)//2)-1]//2\n",
    "    "
   ]
  },
  {
   "cell_type": "code",
   "execution_count": 10,
   "metadata": {
    "collapsed": false
   },
   "outputs": [
    {
     "name": "stdout",
     "output_type": "stream",
     "text": [
      "9\n"
     ]
    }
   ],
   "source": [
    "print(mediana([10,4,5,3,6,9,13,45,12]))\n",
    "\n",
    "\n"
   ]
  },
  {
   "cell_type": "markdown",
   "metadata": {},
   "source": [
    "# 06. Escreva uma função que receba uma lista e retorne a média dos números."
   ]
  },
  {
   "cell_type": "code",
   "execution_count": 7,
   "metadata": {
    "collapsed": false
   },
   "outputs": [],
   "source": [
    "def media(list):\n",
    "    list.sort()\n",
    "    if len(list) > 1:\n",
    "        return   (list[0] + media(list[1:])  * (len(list[1:]))) /len(list)\n",
    "    else:\n",
    "        return list[0]\n",
    "    \n",
    "\n",
    "    "
   ]
  },
  {
   "cell_type": "code",
   "execution_count": 8,
   "metadata": {
    "collapsed": false
   },
   "outputs": [
    {
     "data": {
      "text/plain": [
       "12.25"
      ]
     },
     "execution_count": 8,
     "metadata": {},
     "output_type": "execute_result"
    }
   ],
   "source": [
    "media([10,4,5,3,6,13,45,12])"
   ]
  },
  {
   "cell_type": "markdown",
   "metadata": {},
   "source": [
    "# 07. Escreva uma função que receba uma função de comparação e uma lista. Sua função deve retornar duas listas de acordo com a função de comparação passada como parâmetro:\n",
    "## Ex: usando a Q5, l=[1,2,3,4,5,6,7] mediana(l)=4.\n",
    "## divide_lista(mediana,l):\n",
    "## ([1,2,3], [4,5,6,7]) maiores ou igual a mediana, menores que a mediana\n",
    "\n",
    "## a) Use a função da Q5.\n"
   ]
  },
  {
   "cell_type": "code",
   "execution_count": 8,
   "metadata": {
    "collapsed": false
   },
   "outputs": [],
   "source": [
    "def filtroDivide(filtro,list):\n",
    "    list.sort()\n",
    "    if len(list)==0:\n",
    "        return list\n",
    "    \n",
    "    def divisor(i,list):\n",
    "        if len(list)==i:\n",
    "            return i-1\n",
    "        if list[i] < filtro(list):\n",
    "            return divisor(i+1,list)\n",
    "        else: \n",
    "            return i\n",
    "               \n",
    "    return list[:divisor(0,list)],list[divisor(0,list):]\n"
   ]
  },
  {
   "cell_type": "code",
   "execution_count": 9,
   "metadata": {
    "collapsed": false
   },
   "outputs": [
    {
     "data": {
      "text/plain": [
       "([3, 4, 5, 6], [9, 10, 12, 13, 45])"
      ]
     },
     "execution_count": 9,
     "metadata": {},
     "output_type": "execute_result"
    }
   ],
   "source": [
    "filtroDivide(mediana,[10,4,5,3,6,9,13,45,12])"
   ]
  },
  {
   "cell_type": "markdown",
   "metadata": {},
   "source": [
    "## b) Use a função da Q6.\n"
   ]
  },
  {
   "cell_type": "code",
   "execution_count": 42,
   "metadata": {
    "collapsed": true
   },
   "outputs": [],
   "source": [
    "def filtroDivide2(filtro,list):\n",
    "    list.sort()\n",
    "    if len(list)==0:\n",
    "        return list\n",
    "    \n",
    "    def divisor(i,list):\n",
    "        if len(list)==i:\n",
    "            return i-1\n",
    "        if list[i] < filtro(list):\n",
    "            return divisor(i+1,list)\n",
    "        else: \n",
    "            return i\n",
    "               \n",
    "    return list[:divisor(0,list)],list[divisor(0,list):]\n"
   ]
  },
  {
   "cell_type": "code",
   "execution_count": 43,
   "metadata": {
    "collapsed": false
   },
   "outputs": [
    {
     "name": "stdout",
     "output_type": "stream",
     "text": [
      "([3, 4, 5, 6, 9, 10], [12, 13, 45])\n"
     ]
    }
   ],
   "source": [
    "print(filtroDivide2(media,[10,4,5,3,6,9,13,45,12]))"
   ]
  },
  {
   "cell_type": "markdown",
   "metadata": {},
   "source": [
    "# 08. Escreva uma função que receba uma string e retorne uma lista dos caracteres da string.\n",
    "## Ex: “banana”, ['b','a','n']"
   ]
  },
  {
   "cell_type": "code",
   "execution_count": 12,
   "metadata": {
    "collapsed": false
   },
   "outputs": [],
   "source": [
    "def listaCaracteres(lista):\n",
    "    return list(set((lista)))\n",
    "    "
   ]
  },
  {
   "cell_type": "code",
   "execution_count": 13,
   "metadata": {
    "collapsed": false
   },
   "outputs": [
    {
     "name": "stdout",
     "output_type": "stream",
     "text": [
      "['b', 'n', 'a']\n"
     ]
    }
   ],
   "source": [
    "print(listaCaracteres('banana'))"
   ]
  },
  {
   "cell_type": "markdown",
   "metadata": {},
   "source": [
    "# 09. Escreva uma função intercalada, que recebe uma string e uma caractere. Sua função deveretornar a string intercalada pelo caractere.\n",
    "## Ex: “BANANA”, '-', → “B-A-N-A-N-A”"
   ]
  },
  {
   "cell_type": "code",
   "execution_count": 6,
   "metadata": {
    "collapsed": false
   },
   "outputs": [],
   "source": [
    "def funcao9(str):\n",
    "    \n",
    "    if len(str)==0:\n",
    "        return ''\n",
    "    return str[0]+'-' + funcao9(str[1:])"
   ]
  },
  {
   "cell_type": "code",
   "execution_count": 7,
   "metadata": {
    "collapsed": false
   },
   "outputs": [
    {
     "data": {
      "text/plain": [
       "'O-l-a- -M-u-n-d-o-'"
      ]
     },
     "execution_count": 7,
     "metadata": {},
     "output_type": "execute_result"
    }
   ],
   "source": [
    "funcao9('Ola Mundo')"
   ]
  },
  {
   "cell_type": "markdown",
   "metadata": {},
   "source": [
    "# 10. Escreva uma função que receba uma string ou lista e um número i. Sua função deve retornar o i-ésimo caractere ou elemento da lista.\n",
    "## OBS: suas funções não devem gerar erros, trate-os adequadamente."
   ]
  },
  {
   "cell_type": "code",
   "execution_count": 3,
   "metadata": {
    "collapsed": false
   },
   "outputs": [],
   "source": [
    "def funcao10(list,i):\n",
    "  \n",
    "    if i > len(list):\n",
    "        return False\n",
    "    else:\n",
    "        return list[i]\n",
    "        \n",
    "    "
   ]
  },
  {
   "cell_type": "code",
   "execution_count": 4,
   "metadata": {
    "collapsed": false
   },
   "outputs": [
    {
     "data": {
      "text/plain": [
       "'e'"
      ]
     },
     "execution_count": 4,
     "metadata": {},
     "output_type": "execute_result"
    }
   ],
   "source": [
    "funcao10('Teste',1)"
   ]
  },
  {
   "cell_type": "code",
   "execution_count": null,
   "metadata": {
    "collapsed": true
   },
   "outputs": [],
   "source": []
  }
 ],
 "metadata": {
  "kernelspec": {
   "display_name": "Python 3",
   "language": "python",
   "name": "python3"
  },
  "language_info": {
   "codemirror_mode": {
    "name": "ipython",
    "version": 3
   },
   "file_extension": ".py",
   "mimetype": "text/x-python",
   "name": "python",
   "nbconvert_exporter": "python",
   "pygments_lexer": "ipython3",
   "version": "3.5.2+"
  }
 },
 "nbformat": 4,
 "nbformat_minor": 2
}
